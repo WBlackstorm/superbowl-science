{
 "cells": [
  {
   "cell_type": "code",
   "execution_count": 114,
   "id": "6c2cf0c3",
   "metadata": {},
   "outputs": [],
   "source": [
    "%matplotlib inline"
   ]
  },
  {
   "cell_type": "code",
   "execution_count": 115,
   "id": "80ee4245",
   "metadata": {},
   "outputs": [],
   "source": [
    "import matplotlib.pyplot as plt"
   ]
  },
  {
   "cell_type": "code",
   "execution_count": 116,
   "id": "d816a71d",
   "metadata": {},
   "outputs": [],
   "source": [
    "import pandas as pd\n",
    "import numpy as np\n"
   ]
  },
  {
   "cell_type": "code",
   "execution_count": 117,
   "id": "72a74139",
   "metadata": {},
   "outputs": [],
   "source": [
    "df = pd.read_csv('superbowl.csv')"
   ]
  },
  {
   "cell_type": "code",
   "execution_count": 118,
   "id": "c33f4014",
   "metadata": {},
   "outputs": [
    {
     "name": "stdout",
     "output_type": "stream",
     "text": [
      "<class 'pandas.core.frame.DataFrame'>\n",
      "RangeIndex: 54 entries, 0 to 53\n",
      "Data columns (total 10 columns):\n",
      " #   Column      Non-Null Count  Dtype \n",
      "---  ------      --------------  ----- \n",
      " 0   Date        54 non-null     object\n",
      " 1   SB          54 non-null     object\n",
      " 2   Winner      54 non-null     object\n",
      " 3   Winner Pts  54 non-null     int64 \n",
      " 4   Loser       54 non-null     object\n",
      " 5   Loser Pts   54 non-null     int64 \n",
      " 6   MVP         54 non-null     object\n",
      " 7   Stadium     54 non-null     object\n",
      " 8   City        54 non-null     object\n",
      " 9   State       54 non-null     object\n",
      "dtypes: int64(2), object(8)\n",
      "memory usage: 4.3+ KB\n"
     ]
    }
   ],
   "source": [
    "df.info()"
   ]
  },
  {
   "cell_type": "code",
   "execution_count": 119,
   "id": "55e6e361",
   "metadata": {},
   "outputs": [
    {
     "data": {
      "text/html": [
       "<div>\n",
       "<style scoped>\n",
       "    .dataframe tbody tr th:only-of-type {\n",
       "        vertical-align: middle;\n",
       "    }\n",
       "\n",
       "    .dataframe tbody tr th {\n",
       "        vertical-align: top;\n",
       "    }\n",
       "\n",
       "    .dataframe thead th {\n",
       "        text-align: right;\n",
       "    }\n",
       "</style>\n",
       "<table border=\"1\" class=\"dataframe\">\n",
       "  <thead>\n",
       "    <tr style=\"text-align: right;\">\n",
       "      <th></th>\n",
       "      <th>Date</th>\n",
       "      <th>SB</th>\n",
       "      <th>Winner</th>\n",
       "      <th>Winner Pts</th>\n",
       "      <th>Loser</th>\n",
       "      <th>Loser Pts</th>\n",
       "      <th>MVP</th>\n",
       "      <th>Stadium</th>\n",
       "      <th>City</th>\n",
       "      <th>State</th>\n",
       "    </tr>\n",
       "  </thead>\n",
       "  <tbody>\n",
       "    <tr>\n",
       "      <th>0</th>\n",
       "      <td>Feb 2 2020</td>\n",
       "      <td>LIV (54)</td>\n",
       "      <td>Kansas City Chiefs</td>\n",
       "      <td>31</td>\n",
       "      <td>San Francisco 49ers</td>\n",
       "      <td>20</td>\n",
       "      <td>Patrick Mahomes</td>\n",
       "      <td>Hard Rock Stadium</td>\n",
       "      <td>Miami Gardens</td>\n",
       "      <td>Florida</td>\n",
       "    </tr>\n",
       "    <tr>\n",
       "      <th>1</th>\n",
       "      <td>Feb 3 2019</td>\n",
       "      <td>LIII (53)</td>\n",
       "      <td>New England Patriots</td>\n",
       "      <td>13</td>\n",
       "      <td>Los Angeles Rams</td>\n",
       "      <td>3</td>\n",
       "      <td>Julian Edelman</td>\n",
       "      <td>Mercedes-Benz Stadium</td>\n",
       "      <td>Atlanta</td>\n",
       "      <td>Georgia</td>\n",
       "    </tr>\n",
       "    <tr>\n",
       "      <th>2</th>\n",
       "      <td>Feb 4 2018</td>\n",
       "      <td>LII (52)</td>\n",
       "      <td>Philadelphia Eagles</td>\n",
       "      <td>41</td>\n",
       "      <td>New England Patriots</td>\n",
       "      <td>33</td>\n",
       "      <td>Nick Foles</td>\n",
       "      <td>U.S. Bank Stadium</td>\n",
       "      <td>Minneapolis</td>\n",
       "      <td>Minnesota</td>\n",
       "    </tr>\n",
       "    <tr>\n",
       "      <th>3</th>\n",
       "      <td>Feb 5 2017</td>\n",
       "      <td>LI (51)</td>\n",
       "      <td>New England Patriots</td>\n",
       "      <td>34</td>\n",
       "      <td>Atlanta Falcons</td>\n",
       "      <td>28</td>\n",
       "      <td>Tom Brady</td>\n",
       "      <td>NRG Stadium</td>\n",
       "      <td>Houston</td>\n",
       "      <td>Texas</td>\n",
       "    </tr>\n",
       "    <tr>\n",
       "      <th>4</th>\n",
       "      <td>Feb 7 2016</td>\n",
       "      <td>50</td>\n",
       "      <td>Denver Broncos</td>\n",
       "      <td>24</td>\n",
       "      <td>Carolina Panthers</td>\n",
       "      <td>10</td>\n",
       "      <td>Von Miller</td>\n",
       "      <td>Levi's Stadium</td>\n",
       "      <td>Santa Clara</td>\n",
       "      <td>California</td>\n",
       "    </tr>\n",
       "  </tbody>\n",
       "</table>\n",
       "</div>"
      ],
      "text/plain": [
       "         Date         SB                Winner  Winner Pts  \\\n",
       "0  Feb 2 2020   LIV (54)    Kansas City Chiefs          31   \n",
       "1  Feb 3 2019  LIII (53)  New England Patriots          13   \n",
       "2  Feb 4 2018   LII (52)   Philadelphia Eagles          41   \n",
       "3  Feb 5 2017    LI (51)  New England Patriots          34   \n",
       "4  Feb 7 2016         50        Denver Broncos          24   \n",
       "\n",
       "                  Loser  Loser Pts              MVP                Stadium  \\\n",
       "0   San Francisco 49ers         20  Patrick Mahomes      Hard Rock Stadium   \n",
       "1      Los Angeles Rams          3   Julian Edelman  Mercedes-Benz Stadium   \n",
       "2  New England Patriots         33       Nick Foles      U.S. Bank Stadium   \n",
       "3       Atlanta Falcons         28        Tom Brady            NRG Stadium   \n",
       "4     Carolina Panthers         10       Von Miller         Levi's Stadium   \n",
       "\n",
       "            City       State  \n",
       "0  Miami Gardens     Florida  \n",
       "1        Atlanta     Georgia  \n",
       "2    Minneapolis   Minnesota  \n",
       "3        Houston       Texas  \n",
       "4    Santa Clara  California  "
      ]
     },
     "execution_count": 119,
     "metadata": {},
     "output_type": "execute_result"
    }
   ],
   "source": [
    "df.head()"
   ]
  },
  {
   "cell_type": "code",
   "execution_count": 120,
   "id": "d5e37766",
   "metadata": {},
   "outputs": [
    {
     "data": {
      "text/html": [
       "<div>\n",
       "<style scoped>\n",
       "    .dataframe tbody tr th:only-of-type {\n",
       "        vertical-align: middle;\n",
       "    }\n",
       "\n",
       "    .dataframe tbody tr th {\n",
       "        vertical-align: top;\n",
       "    }\n",
       "\n",
       "    .dataframe thead th {\n",
       "        text-align: right;\n",
       "    }\n",
       "</style>\n",
       "<table border=\"1\" class=\"dataframe\">\n",
       "  <thead>\n",
       "    <tr style=\"text-align: right;\">\n",
       "      <th></th>\n",
       "      <th>Winner Pts</th>\n",
       "      <th>Loser Pts</th>\n",
       "    </tr>\n",
       "  </thead>\n",
       "  <tbody>\n",
       "    <tr>\n",
       "      <th>count</th>\n",
       "      <td>54.000000</td>\n",
       "      <td>54.000000</td>\n",
       "    </tr>\n",
       "    <tr>\n",
       "      <th>mean</th>\n",
       "      <td>30.111111</td>\n",
       "      <td>16.203704</td>\n",
       "    </tr>\n",
       "    <tr>\n",
       "      <th>std</th>\n",
       "      <td>9.766455</td>\n",
       "      <td>7.413348</td>\n",
       "    </tr>\n",
       "    <tr>\n",
       "      <th>min</th>\n",
       "      <td>13.000000</td>\n",
       "      <td>3.000000</td>\n",
       "    </tr>\n",
       "    <tr>\n",
       "      <th>25%</th>\n",
       "      <td>23.250000</td>\n",
       "      <td>10.000000</td>\n",
       "    </tr>\n",
       "    <tr>\n",
       "      <th>50%</th>\n",
       "      <td>30.500000</td>\n",
       "      <td>17.000000</td>\n",
       "    </tr>\n",
       "    <tr>\n",
       "      <th>75%</th>\n",
       "      <td>35.000000</td>\n",
       "      <td>21.000000</td>\n",
       "    </tr>\n",
       "    <tr>\n",
       "      <th>max</th>\n",
       "      <td>55.000000</td>\n",
       "      <td>33.000000</td>\n",
       "    </tr>\n",
       "  </tbody>\n",
       "</table>\n",
       "</div>"
      ],
      "text/plain": [
       "       Winner Pts  Loser Pts\n",
       "count   54.000000  54.000000\n",
       "mean    30.111111  16.203704\n",
       "std      9.766455   7.413348\n",
       "min     13.000000   3.000000\n",
       "25%     23.250000  10.000000\n",
       "50%     30.500000  17.000000\n",
       "75%     35.000000  21.000000\n",
       "max     55.000000  33.000000"
      ]
     },
     "execution_count": 120,
     "metadata": {},
     "output_type": "execute_result"
    }
   ],
   "source": [
    "# Notice that mean between points number of winner is almost double of points number of loser\n",
    "df.describe()"
   ]
  },
  {
   "cell_type": "code",
   "execution_count": 121,
   "id": "cbe93ace",
   "metadata": {},
   "outputs": [],
   "source": [
    "df.drop(['SB', 'Winner', 'Loser', 'MVP', 'Stadium', 'City', 'State'], axis='columns', inplace=True)"
   ]
  },
  {
   "cell_type": "code",
   "execution_count": 122,
   "id": "e99e83e9",
   "metadata": {},
   "outputs": [
    {
     "data": {
      "text/html": [
       "<div>\n",
       "<style scoped>\n",
       "    .dataframe tbody tr th:only-of-type {\n",
       "        vertical-align: middle;\n",
       "    }\n",
       "\n",
       "    .dataframe tbody tr th {\n",
       "        vertical-align: top;\n",
       "    }\n",
       "\n",
       "    .dataframe thead th {\n",
       "        text-align: right;\n",
       "    }\n",
       "</style>\n",
       "<table border=\"1\" class=\"dataframe\">\n",
       "  <thead>\n",
       "    <tr style=\"text-align: right;\">\n",
       "      <th></th>\n",
       "      <th>Date</th>\n",
       "      <th>Winner Pts</th>\n",
       "      <th>Loser Pts</th>\n",
       "    </tr>\n",
       "  </thead>\n",
       "  <tbody>\n",
       "    <tr>\n",
       "      <th>0</th>\n",
       "      <td>Feb 2 2020</td>\n",
       "      <td>31</td>\n",
       "      <td>20</td>\n",
       "    </tr>\n",
       "    <tr>\n",
       "      <th>1</th>\n",
       "      <td>Feb 3 2019</td>\n",
       "      <td>13</td>\n",
       "      <td>3</td>\n",
       "    </tr>\n",
       "    <tr>\n",
       "      <th>2</th>\n",
       "      <td>Feb 4 2018</td>\n",
       "      <td>41</td>\n",
       "      <td>33</td>\n",
       "    </tr>\n",
       "    <tr>\n",
       "      <th>3</th>\n",
       "      <td>Feb 5 2017</td>\n",
       "      <td>34</td>\n",
       "      <td>28</td>\n",
       "    </tr>\n",
       "    <tr>\n",
       "      <th>4</th>\n",
       "      <td>Feb 7 2016</td>\n",
       "      <td>24</td>\n",
       "      <td>10</td>\n",
       "    </tr>\n",
       "  </tbody>\n",
       "</table>\n",
       "</div>"
      ],
      "text/plain": [
       "         Date  Winner Pts  Loser Pts\n",
       "0  Feb 2 2020          31         20\n",
       "1  Feb 3 2019          13          3\n",
       "2  Feb 4 2018          41         33\n",
       "3  Feb 5 2017          34         28\n",
       "4  Feb 7 2016          24         10"
      ]
     },
     "execution_count": 122,
     "metadata": {},
     "output_type": "execute_result"
    }
   ],
   "source": [
    "df.head()"
   ]
  },
  {
   "cell_type": "code",
   "execution_count": 123,
   "id": "5073c333",
   "metadata": {},
   "outputs": [
    {
     "data": {
      "text/html": [
       "<div>\n",
       "<style scoped>\n",
       "    .dataframe tbody tr th:only-of-type {\n",
       "        vertical-align: middle;\n",
       "    }\n",
       "\n",
       "    .dataframe tbody tr th {\n",
       "        vertical-align: top;\n",
       "    }\n",
       "\n",
       "    .dataframe thead th {\n",
       "        text-align: right;\n",
       "    }\n",
       "</style>\n",
       "<table border=\"1\" class=\"dataframe\">\n",
       "  <thead>\n",
       "    <tr style=\"text-align: right;\">\n",
       "      <th></th>\n",
       "      <th>Date</th>\n",
       "      <th>Winner Pts</th>\n",
       "      <th>Loser Pts</th>\n",
       "      <th>Total Points</th>\n",
       "    </tr>\n",
       "  </thead>\n",
       "  <tbody>\n",
       "    <tr>\n",
       "      <th>0</th>\n",
       "      <td>Feb 2 2020</td>\n",
       "      <td>31</td>\n",
       "      <td>20</td>\n",
       "      <td>51</td>\n",
       "    </tr>\n",
       "    <tr>\n",
       "      <th>1</th>\n",
       "      <td>Feb 3 2019</td>\n",
       "      <td>13</td>\n",
       "      <td>3</td>\n",
       "      <td>16</td>\n",
       "    </tr>\n",
       "    <tr>\n",
       "      <th>2</th>\n",
       "      <td>Feb 4 2018</td>\n",
       "      <td>41</td>\n",
       "      <td>33</td>\n",
       "      <td>74</td>\n",
       "    </tr>\n",
       "    <tr>\n",
       "      <th>3</th>\n",
       "      <td>Feb 5 2017</td>\n",
       "      <td>34</td>\n",
       "      <td>28</td>\n",
       "      <td>62</td>\n",
       "    </tr>\n",
       "    <tr>\n",
       "      <th>4</th>\n",
       "      <td>Feb 7 2016</td>\n",
       "      <td>24</td>\n",
       "      <td>10</td>\n",
       "      <td>34</td>\n",
       "    </tr>\n",
       "  </tbody>\n",
       "</table>\n",
       "</div>"
      ],
      "text/plain": [
       "         Date  Winner Pts  Loser Pts  Total Points\n",
       "0  Feb 2 2020          31         20            51\n",
       "1  Feb 3 2019          13          3            16\n",
       "2  Feb 4 2018          41         33            74\n",
       "3  Feb 5 2017          34         28            62\n",
       "4  Feb 7 2016          24         10            34"
      ]
     },
     "execution_count": 123,
     "metadata": {},
     "output_type": "execute_result"
    }
   ],
   "source": [
    "df['Total Points'] = df['Winner Pts'] + df['Loser Pts']\n",
    "df.head()"
   ]
  },
  {
   "cell_type": "code",
   "execution_count": 124,
   "id": "2e38411f",
   "metadata": {},
   "outputs": [
    {
     "data": {
      "text/html": [
       "<div>\n",
       "<style scoped>\n",
       "    .dataframe tbody tr th:only-of-type {\n",
       "        vertical-align: middle;\n",
       "    }\n",
       "\n",
       "    .dataframe tbody tr th {\n",
       "        vertical-align: top;\n",
       "    }\n",
       "\n",
       "    .dataframe thead th {\n",
       "        text-align: right;\n",
       "    }\n",
       "</style>\n",
       "<table border=\"1\" class=\"dataframe\">\n",
       "  <thead>\n",
       "    <tr style=\"text-align: right;\">\n",
       "      <th></th>\n",
       "      <th>Winner Pts</th>\n",
       "      <th>Loser Pts</th>\n",
       "      <th>Total Points</th>\n",
       "      <th>year</th>\n",
       "    </tr>\n",
       "  </thead>\n",
       "  <tbody>\n",
       "    <tr>\n",
       "      <th>0</th>\n",
       "      <td>31</td>\n",
       "      <td>20</td>\n",
       "      <td>51</td>\n",
       "      <td>2020</td>\n",
       "    </tr>\n",
       "    <tr>\n",
       "      <th>1</th>\n",
       "      <td>13</td>\n",
       "      <td>3</td>\n",
       "      <td>16</td>\n",
       "      <td>2019</td>\n",
       "    </tr>\n",
       "    <tr>\n",
       "      <th>2</th>\n",
       "      <td>41</td>\n",
       "      <td>33</td>\n",
       "      <td>74</td>\n",
       "      <td>2018</td>\n",
       "    </tr>\n",
       "    <tr>\n",
       "      <th>3</th>\n",
       "      <td>34</td>\n",
       "      <td>28</td>\n",
       "      <td>62</td>\n",
       "      <td>2017</td>\n",
       "    </tr>\n",
       "    <tr>\n",
       "      <th>4</th>\n",
       "      <td>24</td>\n",
       "      <td>10</td>\n",
       "      <td>34</td>\n",
       "      <td>2016</td>\n",
       "    </tr>\n",
       "  </tbody>\n",
       "</table>\n",
       "</div>"
      ],
      "text/plain": [
       "   Winner Pts  Loser Pts  Total Points  year\n",
       "0          31         20            51  2020\n",
       "1          13          3            16  2019\n",
       "2          41         33            74  2018\n",
       "3          34         28            62  2017\n",
       "4          24         10            34  2016"
      ]
     },
     "execution_count": 124,
     "metadata": {},
     "output_type": "execute_result"
    }
   ],
   "source": [
    "df['year'] = pd.to_numeric(df['Date'].str.slice(start=-4))\n",
    "df.drop('Date', axis=1, inplace=True)\n",
    "df.head()"
   ]
  },
  {
   "cell_type": "code",
   "execution_count": 125,
   "id": "3ef103ea",
   "metadata": {},
   "outputs": [
    {
     "data": {
      "image/png": "[encoded data removed]",
      "text/plain": [
       "<Figure size 640x480 with 1 Axes>"
      ]
     },
     "metadata": {},
     "output_type": "display_data"
    }
   ],
   "source": [
    "plt.boxplot(df['Total Points'])\n",
    "plt.title(\"Total Points per Match\", loc=\"center\", fontsize=14)\n",
    "plt.show()"
   ]
  },
  {
   "cell_type": "code",
   "execution_count": 126,
   "id": "f6724ab2",
   "metadata": {},
   "outputs": [
    {
     "data": {
      "image/png": "[encoded data removed]",
      "text/plain": [
       "<Figure size 640x480 with 1 Axes>"
      ]
     },
     "metadata": {},
     "output_type": "display_data"
    }
   ],
   "source": [
    "plt.boxplot([df[\"Winner Pts\"], df[\"Loser Pts\"]])\n",
    "plt.title(\"Winner Points / Loser Points\", loc=\"center\", fontsize=14)\n",
    "plt.show()"
   ]
  },
  {
   "cell_type": "code",
   "execution_count": 131,
   "id": "1a12e25b",
   "metadata": {},
   "outputs": [
    {
     "data": {
      "image/png": "[encoded data removed]",
      "text/plain": [
       "<Figure size 640x480 with 1 Axes>"
      ]
     },
     "metadata": {},
     "output_type": "display_data"
    }
   ],
   "source": [
    "plt.scatter(df.loc[df['year'] < 1980]['Winner Pts'], df.loc[df['year'] < 1980]['Loser Pts'])\n",
    "plt.title(\"Winner Points / Loser Points 60's - 70's\", loc=\"center\", fontsize=14)\n",
    "plt.show()"
   ]
  },
  {
   "cell_type": "code",
   "execution_count": 140,
   "id": "8ab85990",
   "metadata": {},
   "outputs": [
    {
     "data": {
      "image/png": "[encoded data removed]",
      "text/plain": [
       "<Figure size 640x480 with 1 Axes>"
      ]
     },
     "metadata": {},
     "output_type": "display_data"
    }
   ],
   "source": [
    "plt.scatter(df.loc[(df['year'] >= 1980) & (df['year'] < 2000)]['Winner Pts'], df.loc[(df['year'] >= 1980) & (df['year'] < 2000)]['Loser Pts'])\n",
    "plt.title(\"Winner Points / Loser Points 80's - 90's\", loc=\"center\", fontsize=14)\n",
    "plt.show()"
   ]
  },
  {
   "cell_type": "code",
   "execution_count": 141,
   "id": "af00bc42",
   "metadata": {},
   "outputs": [
    {
     "data": {
      "image/png": "[encoded data removed]",
      "text/plain": [
       "<Figure size 640x480 with 1 Axes>"
      ]
     },
     "metadata": {},
     "output_type": "display_data"
    }
   ],
   "source": [
    "\n",
    "plt.scatter(df.loc[(df['year'] >= 2000)]['Winner Pts'], df.loc[(df['year'] >= 2000)]['Loser Pts'])\n",
    "plt.title(\"Winner Points / Loser Points 00's\", loc=\"center\", fontsize=14)\n",
    "plt.show()"
   ]
  },
  {
   "cell_type": "code",
   "execution_count": 143,
   "id": "c3d599be",
   "metadata": {},
   "outputs": [
    {
     "data": {
      "image/png": "[encoded data removed]",
      "text/plain": [
       "<Figure size 640x480 with 1 Axes>"
      ]
     },
     "metadata": {},
     "output_type": "display_data"
    }
   ],
   "source": [
    "fig, ax = plt.subplots()\n",
    "decades = ['60s', '70s', '80s', '90s', '00s', '10s']\n",
    "points = [0, 0, 0, 0, 0, 0]\n",
    "index = 0\n",
    "for year in df['year']:\n",
    "    if year < 1970:\n",
    "        points[0] += df.loc[index][\"Total Points\"]\n",
    "    if year >= 1970 and year < 1980:\n",
    "        points[1] += df.loc[index][\"Total Points\"]\n",
    "    elif year >= 1980 and year < 1990:\n",
    "        points[2] += df.loc[index][\"Total Points\"]\n",
    "    elif year >= 1990 and year < 2000:\n",
    "        points[3] += df.loc[index][\"Total Points\"]\n",
    "    elif year >= 2000 and year < 2010:\n",
    "        points[4] += df.loc[index][\"Total Points\"]\n",
    "    else:\n",
    "        points[5] += df.loc[index][\"Total Points\"]\n",
    "    index += 1\n",
    "\n",
    "ax.bar(decades, points)\n",
    "plt.title(\"Points at Superbowl by decades\", loc=\"center\", fontsize=14)\n",
    "plt.show()"
   ]
  }
 ],
 "metadata": {
  "kernelspec": {
   "display_name": "Python 3 (ipykernel)",
   "language": "python",
   "name": "python3"
  },
  "language_info": {
   "codemirror_mode": {
    "name": "ipython",
    "version": 3
   },
   "file_extension": ".py",
   "mimetype": "text/x-python",
   "name": "python",
   "nbconvert_exporter": "python",
   "pygments_lexer": "ipython3",
   "version": "3.8.9"
  }
 },
 "nbformat": 4,
 "nbformat_minor": 5
}
