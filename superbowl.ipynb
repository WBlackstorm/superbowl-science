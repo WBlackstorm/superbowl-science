{
 "cells": [
  {
   "cell_type": "code",
   "execution_count": 1,
   "id": "6c2cf0c3",
   "metadata": {},
   "outputs": [],
   "source": [
    "%matplotlib inline"
   ]
  },
  {
   "cell_type": "code",
   "execution_count": 2,
   "id": "80ee4245",
   "metadata": {},
   "outputs": [],
   "source": [
    "import matplotlib.pyplot as plt"
   ]
  },
  {
   "cell_type": "code",
   "execution_count": 3,
   "id": "d816a71d",
   "metadata": {},
   "outputs": [],
   "source": [
    "import pandas as pd\n",
    "import numpy as np\n"
   ]
  },
  {
   "cell_type": "code",
   "execution_count": 4,
   "id": "72a74139",
   "metadata": {},
   "outputs": [],
   "source": [
    "df = pd.read_csv('superbowl.csv')"
   ]
  },
  {
   "cell_type": "code",
   "execution_count": 7,
   "id": "55e6e361",
   "metadata": {},
   "outputs": [
    {
     "data": {
      "text/html": [
       "<div>\n",
       "<style scoped>\n",
       "    .dataframe tbody tr th:only-of-type {\n",
       "        vertical-align: middle;\n",
       "    }\n",
       "\n",
       "    .dataframe tbody tr th {\n",
       "        vertical-align: top;\n",
       "    }\n",
       "\n",
       "    .dataframe thead th {\n",
       "        text-align: right;\n",
       "    }\n",
       "</style>\n",
       "<table border=\"1\" class=\"dataframe\">\n",
       "  <thead>\n",
       "    <tr style=\"text-align: right;\">\n",
       "      <th></th>\n",
       "      <th>Date</th>\n",
       "      <th>SB</th>\n",
       "      <th>Winner</th>\n",
       "      <th>Winner Pts</th>\n",
       "      <th>Loser</th>\n",
       "      <th>Loser Pts</th>\n",
       "      <th>MVP</th>\n",
       "      <th>Stadium</th>\n",
       "      <th>City</th>\n",
       "      <th>State</th>\n",
       "    </tr>\n",
       "  </thead>\n",
       "  <tbody>\n",
       "    <tr>\n",
       "      <th>0</th>\n",
       "      <td>Feb 2 2020</td>\n",
       "      <td>LIV (54)</td>\n",
       "      <td>Kansas City Chiefs</td>\n",
       "      <td>31</td>\n",
       "      <td>San Francisco 49ers</td>\n",
       "      <td>20</td>\n",
       "      <td>Patrick Mahomes</td>\n",
       "      <td>Hard Rock Stadium</td>\n",
       "      <td>Miami Gardens</td>\n",
       "      <td>Florida</td>\n",
       "    </tr>\n",
       "    <tr>\n",
       "      <th>1</th>\n",
       "      <td>Feb 3 2019</td>\n",
       "      <td>LIII (53)</td>\n",
       "      <td>New England Patriots</td>\n",
       "      <td>13</td>\n",
       "      <td>Los Angeles Rams</td>\n",
       "      <td>3</td>\n",
       "      <td>Julian Edelman</td>\n",
       "      <td>Mercedes-Benz Stadium</td>\n",
       "      <td>Atlanta</td>\n",
       "      <td>Georgia</td>\n",
       "    </tr>\n",
       "    <tr>\n",
       "      <th>2</th>\n",
       "      <td>Feb 4 2018</td>\n",
       "      <td>LII (52)</td>\n",
       "      <td>Philadelphia Eagles</td>\n",
       "      <td>41</td>\n",
       "      <td>New England Patriots</td>\n",
       "      <td>33</td>\n",
       "      <td>Nick Foles</td>\n",
       "      <td>U.S. Bank Stadium</td>\n",
       "      <td>Minneapolis</td>\n",
       "      <td>Minnesota</td>\n",
       "    </tr>\n",
       "    <tr>\n",
       "      <th>3</th>\n",
       "      <td>Feb 5 2017</td>\n",
       "      <td>LI (51)</td>\n",
       "      <td>New England Patriots</td>\n",
       "      <td>34</td>\n",
       "      <td>Atlanta Falcons</td>\n",
       "      <td>28</td>\n",
       "      <td>Tom Brady</td>\n",
       "      <td>NRG Stadium</td>\n",
       "      <td>Houston</td>\n",
       "      <td>Texas</td>\n",
       "    </tr>\n",
       "    <tr>\n",
       "      <th>4</th>\n",
       "      <td>Feb 7 2016</td>\n",
       "      <td>50</td>\n",
       "      <td>Denver Broncos</td>\n",
       "      <td>24</td>\n",
       "      <td>Carolina Panthers</td>\n",
       "      <td>10</td>\n",
       "      <td>Von Miller</td>\n",
       "      <td>Levi's Stadium</td>\n",
       "      <td>Santa Clara</td>\n",
       "      <td>California</td>\n",
       "    </tr>\n",
       "  </tbody>\n",
       "</table>\n",
       "</div>"
      ],
      "text/plain": [
       "         Date         SB                Winner  Winner Pts  \\\n",
       "0  Feb 2 2020   LIV (54)    Kansas City Chiefs          31   \n",
       "1  Feb 3 2019  LIII (53)  New England Patriots          13   \n",
       "2  Feb 4 2018   LII (52)   Philadelphia Eagles          41   \n",
       "3  Feb 5 2017    LI (51)  New England Patriots          34   \n",
       "4  Feb 7 2016         50        Denver Broncos          24   \n",
       "\n",
       "                  Loser  Loser Pts              MVP                Stadium  \\\n",
       "0   San Francisco 49ers         20  Patrick Mahomes      Hard Rock Stadium   \n",
       "1      Los Angeles Rams          3   Julian Edelman  Mercedes-Benz Stadium   \n",
       "2  New England Patriots         33       Nick Foles      U.S. Bank Stadium   \n",
       "3       Atlanta Falcons         28        Tom Brady            NRG Stadium   \n",
       "4     Carolina Panthers         10       Von Miller         Levi's Stadium   \n",
       "\n",
       "            City       State  \n",
       "0  Miami Gardens     Florida  \n",
       "1        Atlanta     Georgia  \n",
       "2    Minneapolis   Minnesota  \n",
       "3        Houston       Texas  \n",
       "4    Santa Clara  California  "
      ]
     },
     "execution_count": 7,
     "metadata": {},
     "output_type": "execute_result"
    }
   ],
   "source": [
    "df.head()"
   ]
  },
  {
   "cell_type": "code",
   "execution_count": 8,
   "id": "d5e37766",
   "metadata": {},
   "outputs": [
    {
     "data": {
      "text/html": [
       "<div>\n",
       "<style scoped>\n",
       "    .dataframe tbody tr th:only-of-type {\n",
       "        vertical-align: middle;\n",
       "    }\n",
       "\n",
       "    .dataframe tbody tr th {\n",
       "        vertical-align: top;\n",
       "    }\n",
       "\n",
       "    .dataframe thead th {\n",
       "        text-align: right;\n",
       "    }\n",
       "</style>\n",
       "<table border=\"1\" class=\"dataframe\">\n",
       "  <thead>\n",
       "    <tr style=\"text-align: right;\">\n",
       "      <th></th>\n",
       "      <th>Winner Pts</th>\n",
       "      <th>Loser Pts</th>\n",
       "    </tr>\n",
       "  </thead>\n",
       "  <tbody>\n",
       "    <tr>\n",
       "      <th>count</th>\n",
       "      <td>54.000000</td>\n",
       "      <td>54.000000</td>\n",
       "    </tr>\n",
       "    <tr>\n",
       "      <th>mean</th>\n",
       "      <td>30.111111</td>\n",
       "      <td>16.203704</td>\n",
       "    </tr>\n",
       "    <tr>\n",
       "      <th>std</th>\n",
       "      <td>9.766455</td>\n",
       "      <td>7.413348</td>\n",
       "    </tr>\n",
       "    <tr>\n",
       "      <th>min</th>\n",
       "      <td>13.000000</td>\n",
       "      <td>3.000000</td>\n",
       "    </tr>\n",
       "    <tr>\n",
       "      <th>25%</th>\n",
       "      <td>23.250000</td>\n",
       "      <td>10.000000</td>\n",
       "    </tr>\n",
       "    <tr>\n",
       "      <th>50%</th>\n",
       "      <td>30.500000</td>\n",
       "      <td>17.000000</td>\n",
       "    </tr>\n",
       "    <tr>\n",
       "      <th>75%</th>\n",
       "      <td>35.000000</td>\n",
       "      <td>21.000000</td>\n",
       "    </tr>\n",
       "    <tr>\n",
       "      <th>max</th>\n",
       "      <td>55.000000</td>\n",
       "      <td>33.000000</td>\n",
       "    </tr>\n",
       "  </tbody>\n",
       "</table>\n",
       "</div>"
      ],
      "text/plain": [
       "       Winner Pts  Loser Pts\n",
       "count   54.000000  54.000000\n",
       "mean    30.111111  16.203704\n",
       "std      9.766455   7.413348\n",
       "min     13.000000   3.000000\n",
       "25%     23.250000  10.000000\n",
       "50%     30.500000  17.000000\n",
       "75%     35.000000  21.000000\n",
       "max     55.000000  33.000000"
      ]
     },
     "execution_count": 8,
     "metadata": {},
     "output_type": "execute_result"
    }
   ],
   "source": [
    "# Notice that mean between points number of winner is almost double of points number of loser\n",
    "df.describe()"
   ]
  },
  {
   "cell_type": "code",
   "execution_count": 42,
   "id": "0412b665",
   "metadata": {},
   "outputs": [],
   "source": [
    "# Define year of superbowl as index.\n",
    "df['Year'] = df.apply(lambda x: int(x['Date'][-4:]), axis=1)\n",
    "df.set_index(df['Year'], inplace=True)"
   ]
  },
  {
   "cell_type": "code",
   "execution_count": 43,
   "id": "744ab559",
   "metadata": {},
   "outputs": [],
   "source": [
    "# Slice by decades\n",
    "beginners = df.loc[df['Year'] < 1980]\n",
    "boomers = df.loc[(df['Year'] > 1980) & (df['Year'] < 2000)]\n",
    "millenium = df.loc[df['Year'] > 2000]"
   ]
  },
  {
   "cell_type": "code",
   "execution_count": 44,
   "id": "f1b8154f",
   "metadata": {},
   "outputs": [],
   "source": [
    "def create_axis(ax, title, y_label):\n",
    "    ax.tick_params(axis='x', rotation=70)\n",
    "    ax.set_xlabel('Years')\n",
    "    ax.set_ylabel(y_label)\n",
    "    ax.set_title(title)"
   ]
  },
  {
   "cell_type": "code",
   "execution_count": 45,
   "id": "9f7ca4f0",
   "metadata": {},
   "outputs": [
    {
     "data": {
      "text/plain": [
       "[]"
      ]
     },
     "execution_count": 45,
     "metadata": {},
     "output_type": "execute_result"
    },
    {
     "data": {
      "image/png": "[encoded data removed]",
      "text/plain": [
       "<Figure size 640x480 with 6 Axes>"
      ]
     },
     "metadata": {},
     "output_type": "display_data"
    }
   ],
   "source": [
    "# Winner Points 60's and 70's\n",
    "fig, ((ax1, ax2, ax3), (ax4, ax5, ax6)) = plt.subplots(nrows=2, ncols=3, tight_layout=True)\n",
    "create_axis(ax1, '60s and 70s', 'Winner Points')\n",
    "create_axis(ax2, '80s and 90s', 'Winner Points')\n",
    "create_axis(ax3, '2000 - 2020', 'Winner Points')\n",
    "create_axis(ax4, '60s and 70s', 'Loser Points')\n",
    "create_axis(ax5, '80s and 90s', 'Loser Points')\n",
    "create_axis(ax6, '2000 - 2020', 'Loser Points')\n",
    "\n",
    "fig.suptitle('Points During Decades')\n",
    "ax1.bar(beginners['Year'], beginners['Winner Pts'])\n",
    "ax2.bar(boomers['Year'], boomers['Winner Pts'])\n",
    "ax3.bar(millenium['Year'], millenium['Winner Pts'])\n",
    "ax4.bar(beginners['Year'], beginners['Loser Pts'])\n",
    "ax5.bar(boomers['Year'], boomers['Loser Pts'])\n",
    "ax6.bar(millenium['Year'], millenium['Loser Pts'])\n",
    "plt.plot()"
   ]
  },
  {
   "cell_type": "code",
   "execution_count": 32,
   "id": "a44dde0d",
   "metadata": {},
   "outputs": [
    {
     "data": {
      "text/plain": [
       "Pittsburgh Steelers     6\n",
       "New England Patriots    6\n",
       "Dallas Cowboys          5\n",
       "San Francisco 49ers     5\n",
       "New York Giants         4\n",
       "Green Bay Packers       4\n",
       "Washington Redskins     3\n",
       "Denver Broncos          3\n",
       "Kansas City Chiefs      2\n",
       "Miami Dolphins          2\n",
       "Baltimore Ravens        2\n",
       "Oakland Raiders         2\n",
       "Baltimore Colts         1\n",
       "Los Angeles Raiders     1\n",
       "Chicago Bears           1\n",
       "Tampa Bay Buccaneers    1\n",
       "St. Louis Rams          1\n",
       "Indianapolis Colts      1\n",
       "New Orleans Saints      1\n",
       "Seattle Seahawks        1\n",
       "Philadelphia Eagles     1\n",
       "New York Jets           1\n",
       "Name: Winner, dtype: int64"
      ]
     },
     "execution_count": 32,
     "metadata": {},
     "output_type": "execute_result"
    }
   ],
   "source": [
    "# Winners\n",
    "df['Winner'].value_counts()"
   ]
  },
  {
   "cell_type": "code",
   "execution_count": 33,
   "id": "e8d20361",
   "metadata": {},
   "outputs": [
    {
     "data": {
      "text/plain": [
       "New England Patriots    5\n",
       "Denver Broncos          5\n",
       "Buffalo Bills           4\n",
       "Minnesota Vikings       4\n",
       "Miami Dolphins          3\n",
       "Dallas Cowboys          3\n",
       "San Francisco 49ers     2\n",
       "Philadelphia Eagles     2\n",
       "Washington Redskins     2\n",
       "Los Angeles Rams        2\n",
       "Oakland Raiders         2\n",
       "Cincinnati Bengals      2\n",
       "Pittsburgh Steelers     2\n",
       "Seattle Seahawks        2\n",
       "Carolina Panthers       2\n",
       "Atlanta Falcons         2\n",
       "Baltimore Colts         1\n",
       "St. Louis Rams          1\n",
       "San Diego Chargers      1\n",
       "Green Bay Packers       1\n",
       "Tennessee Titans        1\n",
       "New York Giants         1\n",
       "Chicago Bears           1\n",
       "Arizona Cardinals       1\n",
       "Indianapolis Colts      1\n",
       "Kansas City Chiefs      1\n",
       "Name: Loser, dtype: int64"
      ]
     },
     "execution_count": 33,
     "metadata": {},
     "output_type": "execute_result"
    }
   ],
   "source": [
    "# Teams that went to superbowl and did not win\n",
    "df['Loser'].value_counts()"
   ]
  },
  {
   "cell_type": "code",
   "execution_count": 5,
   "id": "e46313fc",
   "metadata": {},
   "outputs": [
    {
     "data": {
      "text/plain": [
       "Tom Brady                    4\n",
       "Joe Montana+                 3\n",
       "Bart Starr+                  2\n",
       "Eli Manning                  2\n",
       "Terry Bradshaw+              2\n",
       "Harvey MartinRandy White+    1\n",
       "Jerry Rice+                  1\n",
       "Doug Williams                1\n",
       "Phil Simms                   1\n",
       "Richard Dent+                1\n",
       "Marcus Allen+                1\n",
       "John Riggins+                1\n",
       "Jim Plunkett                 1\n",
       "Fred Biletnikoff+            1\n",
       "Mark Rypien                  1\n",
       "Lynn Swann+                  1\n",
       "Franco Harris+               1\n",
       "Larry Csonka+                1\n",
       "Jake Scott                   1\n",
       "Roger Staubach+              1\n",
       "Chuck Howley                 1\n",
       "Len Dawson+                  1\n",
       "Joe Namath+                  1\n",
       "Ottis Anderson               1\n",
       "Patrick Mahomes              1\n",
       "Julian Edelman               1\n",
       "Hines Ward                   1\n",
       "Nick Foles                   1\n",
       "Von Miller                   1\n",
       "Malcolm Smith                1\n",
       "Joe Flacco                   1\n",
       "Aaron Rodgers                1\n",
       "Drew Brees                   1\n",
       "Santonio Holmes              1\n",
       "Peyton Manning               1\n",
       "Deion Branch                 1\n",
       "Emmitt Smith+                1\n",
       "Dexter Jackson               1\n",
       "Ray Lewis+                   1\n",
       "Kurt Warner+                 1\n",
       "John Elway+                  1\n",
       "Terrell Davis+               1\n",
       "Desmond Howard               1\n",
       "Larry Brown                  1\n",
       "Steve Young+                 1\n",
       "Troy Aikman+                 1\n",
       "Name: MVP, dtype: int64"
      ]
     },
     "execution_count": 5,
     "metadata": {},
     "output_type": "execute_result"
    }
   ],
   "source": [
    "# Players with MVP awards\n",
    "df['MVP'].value_counts()"
   ]
  },
  {
   "cell_type": "code",
   "execution_count": 21,
   "id": "1c1e2b69",
   "metadata": {},
   "outputs": [],
   "source": [
    "# Function that groups team data from columns (Winner and Loser)\n",
    "def group_teams_from_column(column, content = {}):\n",
    "    for a in column:\n",
    "        if a not in content.keys():\n",
    "            content[a] = 0\n",
    "        content[a] = content[a] + 1\n",
    "    return content"
   ]
  },
  {
   "cell_type": "code",
   "execution_count": 35,
   "id": "1f8c46b7",
   "metadata": {},
   "outputs": [],
   "source": [
    "# Calculating number of times that teams go to superbowl\n",
    "teams = {}\n",
    "group_teams_from_column(df['Winner'], teams)\n",
    "teams = group_teams_from_column(df['Loser'], teams)\n",
    "sorted_teams = dict(sorted(teams.items(), key=lambda x:-x[1]))"
   ]
  },
  {
   "cell_type": "code",
   "execution_count": 37,
   "id": "5338ebdd",
   "metadata": {},
   "outputs": [
    {
     "data": {
      "text/plain": [
       "{'New England Patriots': 11,\n",
       " 'Denver Broncos': 8,\n",
       " 'Pittsburgh Steelers': 8,\n",
       " 'Dallas Cowboys': 8,\n",
       " 'San Francisco 49ers': 7,\n",
       " 'New York Giants': 5,\n",
       " 'Green Bay Packers': 5,\n",
       " 'Washington Redskins': 5,\n",
       " 'Miami Dolphins': 5,\n",
       " 'Oakland Raiders': 4,\n",
       " 'Buffalo Bills': 4,\n",
       " 'Minnesota Vikings': 4,\n",
       " 'Kansas City Chiefs': 3,\n",
       " 'Philadelphia Eagles': 3,\n",
       " 'Seattle Seahawks': 3,\n",
       " 'Baltimore Ravens': 2,\n",
       " 'Indianapolis Colts': 2,\n",
       " 'St. Louis Rams': 2,\n",
       " 'Chicago Bears': 2,\n",
       " 'Baltimore Colts': 2,\n",
       " 'Los Angeles Rams': 2,\n",
       " 'Atlanta Falcons': 2,\n",
       " 'Carolina Panthers': 2,\n",
       " 'Cincinnati Bengals': 2,\n",
       " 'New Orleans Saints': 1,\n",
       " 'Tampa Bay Buccaneers': 1,\n",
       " 'Los Angeles Raiders': 1,\n",
       " 'New York Jets': 1,\n",
       " 'Arizona Cardinals': 1,\n",
       " 'Tennessee Titans': 1,\n",
       " 'San Diego Chargers': 1}"
      ]
     },
     "execution_count": 37,
     "metadata": {},
     "output_type": "execute_result"
    }
   ],
   "source": [
    "# Most Winners\n",
    "sorted_teams"
   ]
  }
 ],
 "metadata": {
  "kernelspec": {
   "display_name": "Python 3 (ipykernel)",
   "language": "python",
   "name": "python3"
  },
  "language_info": {
   "codemirror_mode": {
    "name": "ipython",
    "version": 3
   },
   "file_extension": ".py",
   "mimetype": "text/x-python",
   "name": "python",
   "nbconvert_exporter": "python",
   "pygments_lexer": "ipython3",
   "version": "3.8.9"
  }
 },
 "nbformat": 4,
 "nbformat_minor": 5
}
